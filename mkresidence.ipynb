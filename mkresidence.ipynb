{
 "cells": [
  {
   "cell_type": "code",
   "execution_count": null,
   "metadata": {},
   "outputs": [],
   "source": [
    "import pandas as pd\n",
    "\n",
    "data_ITM = pd.read_csv('data/ITM.csv')\n",
    "\n",
    "elev = pd.read_csv('data/merged_all_census_and_samira.csv')\n",
    "elev = elev[['eng_vil_name', 'elevation']].dropna()\n",
    "elev2 = pd.DataFrame([['Ersi', 407], ['Gelmets', 1750], ['Hinuq', 1941], \n",
    "             ['Mikik', 1640], ['Tad-Magitl', 1457], ['Upper Ubekimakhi', 1246]], \n",
    "                     columns=['eng_vil_name', 'elevation'])\n",
    "elev = (elev.append(elev2)\n",
    "        .rename(columns={'eng_vil_name': 'residence'})\n",
    "        .reset_index(drop=True))\n",
    "\n",
    "res_ref = data_ITM[['residence', 'language population', 'village population', 'mother tongue']]\n",
    "res_ref = res_ref.drop_duplicates()\n",
    "res_ref.merge(elev, on='residence', how='left').to_csv(\"residence_info.csv\", index=False)"
   ]
  }
 ],
 "metadata": {
  "kernelspec": {
   "display_name": "Python 3",
   "language": "python",
   "name": "python3"
  },
  "language_info": {
   "codemirror_mode": {
    "name": "ipython",
    "version": 3
   },
   "file_extension": ".py",
   "mimetype": "text/x-python",
   "name": "python",
   "nbconvert_exporter": "python",
   "pygments_lexer": "ipython3",
   "version": "3.6.10"
  }
 },
 "nbformat": 4,
 "nbformat_minor": 4
}
